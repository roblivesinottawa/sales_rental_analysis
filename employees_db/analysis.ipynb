{
 "cells": [
  {
   "cell_type": "code",
   "execution_count": 5,
   "metadata": {},
   "outputs": [],
   "source": [
    "# %pip install mysql-connector-python"
   ]
  },
  {
   "cell_type": "code",
   "execution_count": 3,
   "metadata": {},
   "outputs": [],
   "source": [
    "import mysql.connector\n",
    "from mysql.connector import connect, Error\n",
    "import pandas as pd\n",
    "import numpy as np\n",
    "import matplotlib.pyplot as plt\n",
    "import seaborn as sns\n",
    "\n",
    "plt.rcParams['figure.figsize'] = (15, 5)\n",
    "sns.set_style('darkgrid')"
   ]
  },
  {
   "cell_type": "code",
   "execution_count": 4,
   "metadata": {},
   "outputs": [],
   "source": [
    "employees = mysql.connector.connect(\n",
    "    host=\"localhost\",\n",
    "    user=\"root\",\n",
    "    passwd=\"\",\n",
    "    database=\"employees\"\n",
    ")\n",
    "\n",
    "cursor = employees.cursor()"
   ]
  },
  {
   "cell_type": "code",
   "execution_count": 6,
   "metadata": {},
   "outputs": [],
   "source": [
    "df = pd.read_sql_query(\n",
    "    '''\n",
    "    SELECT e.birth_date, e.first_name, e.last_name, e.gender,\n",
    "    t.title, t.from_date,\n",
    "    s.salary\n",
    "    FROM employees e\n",
    "    INNER JOIN \n",
    "    titles t \n",
    "    ON e.emp_no = t.emp_no\n",
    "    INNER JOIN\n",
    "    salaries s\n",
    "    ON t.emp_no = s.emp_no\n",
    "    GROUP BY e.emp_no ORDER BY e.emp_no;\n",
    "    ''', employees)\n"
   ]
  },
  {
   "cell_type": "code",
   "execution_count": 8,
   "metadata": {},
   "outputs": [
    {
     "name": "stdout",
     "output_type": "stream",
     "text": [
      "   birth_date first_name  last_name gender               title   from_date  \\\n",
      "0  1953-09-02     Georgi    Facello      M     Senior Engineer  1986-06-26   \n",
      "1  1964-06-02    Bezalel     Simmel      F               Staff  1996-08-03   \n",
      "2  1959-12-03      Parto    Bamford      M     Senior Engineer  1995-12-03   \n",
      "3  1954-05-01  Chirstian    Koblick      M            Engineer  1986-12-01   \n",
      "4  1955-01-21    Kyoichi   Maliniak      M        Senior Staff  1996-09-12   \n",
      "5  1953-04-20     Anneke    Preusig      F     Senior Engineer  1990-08-05   \n",
      "6  1957-05-23    Tzvetan  Zielinski      F        Senior Staff  1996-02-11   \n",
      "7  1958-02-19     Saniya   Kalloufi      M  Assistant Engineer  1998-03-11   \n",
      "8  1952-04-19     Sumant       Peac      F  Assistant Engineer  1985-02-18   \n",
      "9  1963-06-01  Duangkaew   Piveteau      F            Engineer  1996-11-24   \n",
      "\n",
      "   salary  \n",
      "0   60117  \n",
      "1   65828  \n",
      "2   40006  \n",
      "3   40054  \n",
      "4   78228  \n",
      "5   40000  \n",
      "6   56724  \n",
      "7   46671  \n",
      "8   60929  \n",
      "9   72488  \n"
     ]
    }
   ],
   "source": [
    "print(df.head(10))"
   ]
  },
  {
   "cell_type": "code",
   "execution_count": null,
   "metadata": {},
   "outputs": [],
   "source": []
  }
 ],
 "metadata": {
  "interpreter": {
   "hash": "40d3a090f54c6569ab1632332b64b2c03c39dcf918b08424e98f38b5ae0af88f"
  },
  "kernelspec": {
   "display_name": "Python 3.9.7 64-bit ('base': conda)",
   "language": "python",
   "name": "python3"
  },
  "language_info": {
   "codemirror_mode": {
    "name": "ipython",
    "version": 3
   },
   "file_extension": ".py",
   "mimetype": "text/x-python",
   "name": "python",
   "nbconvert_exporter": "python",
   "pygments_lexer": "ipython3",
   "version": "3.10.0"
  },
  "orig_nbformat": 4
 },
 "nbformat": 4,
 "nbformat_minor": 2
}
