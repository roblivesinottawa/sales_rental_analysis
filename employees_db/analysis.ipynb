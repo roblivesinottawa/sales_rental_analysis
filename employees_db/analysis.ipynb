{
 "cells": [
  {
   "cell_type": "code",
   "execution_count": null,
   "metadata": {},
   "outputs": [
    {
     "ename": "",
     "evalue": "",
     "output_type": "error",
     "traceback": [
      "\u001b[1;31mUnable to start Kernel 'Python 3.10.0 64-bit' due to connection timeout. \n",
      "View Jupyter <a href='command:jupyter.viewOutput'>log</a> for further details."
     ]
    }
   ],
   "source": [
    "# %pip install mysql-connector-python"
   ]
  },
  {
   "cell_type": "code",
   "execution_count": 19,
   "metadata": {},
   "outputs": [],
   "source": [
    "import mysql.connector\n",
    "from mysql.connector import connect, Error\n",
    "import pandas as pd\n",
    "import numpy as np\n",
    "import matplotlib.pyplot as plt\n",
    "import seaborn as sns\n",
    "\n",
    "plt.rcParams['figure.figsize'] = (16, 8)\n",
    "sns.set_style('darkgrid')"
   ]
  },
  {
   "cell_type": "code",
   "execution_count": 20,
   "metadata": {},
   "outputs": [],
   "source": [
    "employees = mysql.connector.connect(\n",
    "    host=\"localhost\",\n",
    "    user=\"root\",\n",
    "    passwd=input(\"please, enter you password: \"),\n",
    "    database=\"employees\"\n",
    ")\n",
    "\n",
    "cursor = employees.cursor()"
   ]
  },
  {
   "cell_type": "code",
   "execution_count": 21,
   "metadata": {},
   "outputs": [],
   "source": [
    "df = pd.read_sql_query(\n",
    "    '''\n",
    "    SELECT e.birth_date, e.first_name, e.last_name, e.gender,\n",
    "    t.title, t.from_date,\n",
    "    s.salary\n",
    "    FROM employees e\n",
    "    INNER JOIN \n",
    "    titles t \n",
    "    ON e.emp_no = t.emp_no\n",
    "    INNER JOIN\n",
    "    salaries s\n",
    "    ON t.emp_no = s.emp_no\n",
    "    GROUP BY e.emp_no ORDER BY e.emp_no;\n",
    "    ''', \n",
    "    employees, parse_dates=[\"from_date\", \"birth_date\"]\n",
    "    )\n"
   ]
  },
  {
   "cell_type": "code",
   "execution_count": 22,
   "metadata": {},
   "outputs": [
    {
     "name": "stdout",
     "output_type": "stream",
     "text": [
      "  birth_date first_name  last_name gender               title  from_date  \\\n",
      "0 1953-09-02     Georgi    Facello      M     Senior Engineer 1986-06-26   \n",
      "1 1964-06-02    Bezalel     Simmel      F               Staff 1996-08-03   \n",
      "2 1959-12-03      Parto    Bamford      M     Senior Engineer 1995-12-03   \n",
      "3 1954-05-01  Chirstian    Koblick      M            Engineer 1986-12-01   \n",
      "4 1955-01-21    Kyoichi   Maliniak      M        Senior Staff 1996-09-12   \n",
      "5 1953-04-20     Anneke    Preusig      F     Senior Engineer 1990-08-05   \n",
      "6 1957-05-23    Tzvetan  Zielinski      F        Senior Staff 1996-02-11   \n",
      "7 1958-02-19     Saniya   Kalloufi      M  Assistant Engineer 1998-03-11   \n",
      "8 1952-04-19     Sumant       Peac      F  Assistant Engineer 1985-02-18   \n",
      "9 1963-06-01  Duangkaew   Piveteau      F            Engineer 1996-11-24   \n",
      "\n",
      "   salary  \n",
      "0   60117  \n",
      "1   65828  \n",
      "2   40006  \n",
      "3   40054  \n",
      "4   78228  \n",
      "5   40000  \n",
      "6   56724  \n",
      "7   46671  \n",
      "8   60929  \n",
      "9   72488  \n"
     ]
    }
   ],
   "source": [
    "print(df.head(10))"
   ]
  },
  {
   "cell_type": "code",
   "execution_count": 23,
   "metadata": {},
   "outputs": [],
   "source": [
    "column_names = ['title', 'first_name', 'last_name', 'birth_date', 'gender', 'salary', 'from_date']\n",
    "df = df.reindex(columns=column_names)"
   ]
  },
  {
   "cell_type": "code",
   "execution_count": 24,
   "metadata": {},
   "outputs": [
    {
     "name": "stdout",
     "output_type": "stream",
     "text": [
      "                title first_name  last_name birth_date gender  salary  \\\n",
      "0     Senior Engineer     Georgi    Facello 1953-09-02      M   60117   \n",
      "1               Staff    Bezalel     Simmel 1964-06-02      F   65828   \n",
      "2     Senior Engineer      Parto    Bamford 1959-12-03      M   40006   \n",
      "3            Engineer  Chirstian    Koblick 1954-05-01      M   40054   \n",
      "4        Senior Staff    Kyoichi   Maliniak 1955-01-21      M   78228   \n",
      "5     Senior Engineer     Anneke    Preusig 1953-04-20      F   40000   \n",
      "6        Senior Staff    Tzvetan  Zielinski 1957-05-23      F   56724   \n",
      "7  Assistant Engineer     Saniya   Kalloufi 1958-02-19      M   46671   \n",
      "8  Assistant Engineer     Sumant       Peac 1952-04-19      F   60929   \n",
      "9            Engineer  Duangkaew   Piveteau 1963-06-01      F   72488   \n",
      "\n",
      "   from_date  \n",
      "0 1986-06-26  \n",
      "1 1996-08-03  \n",
      "2 1995-12-03  \n",
      "3 1986-12-01  \n",
      "4 1996-09-12  \n",
      "5 1990-08-05  \n",
      "6 1996-02-11  \n",
      "7 1998-03-11  \n",
      "8 1985-02-18  \n",
      "9 1996-11-24  \n"
     ]
    }
   ],
   "source": [
    "print(df.head(10))"
   ]
  },
  {
   "cell_type": "code",
   "execution_count": 25,
   "metadata": {},
   "outputs": [
    {
     "data": {
      "text/plain": [
       "(300024, 7)"
      ]
     },
     "execution_count": 25,
     "metadata": {},
     "output_type": "execute_result"
    }
   ],
   "source": [
    "df.shape"
   ]
  },
  {
   "cell_type": "code",
   "execution_count": 26,
   "metadata": {},
   "outputs": [
    {
     "name": "stdout",
     "output_type": "stream",
     "text": [
      "<class 'pandas.core.frame.DataFrame'>\n",
      "RangeIndex: 300024 entries, 0 to 300023\n",
      "Data columns (total 7 columns):\n",
      " #   Column      Non-Null Count   Dtype         \n",
      "---  ------      --------------   -----         \n",
      " 0   title       300024 non-null  object        \n",
      " 1   first_name  300024 non-null  object        \n",
      " 2   last_name   300024 non-null  object        \n",
      " 3   birth_date  300024 non-null  datetime64[ns]\n",
      " 4   gender      300024 non-null  object        \n",
      " 5   salary      300024 non-null  int64         \n",
      " 6   from_date   300024 non-null  datetime64[ns]\n",
      "dtypes: datetime64[ns](2), int64(1), object(4)\n",
      "memory usage: 16.0+ MB\n"
     ]
    }
   ],
   "source": [
    "df.info()"
   ]
  },
  {
   "cell_type": "code",
   "execution_count": 27,
   "metadata": {},
   "outputs": [
    {
     "data": {
      "text/plain": [
       "title         0\n",
       "first_name    0\n",
       "last_name     0\n",
       "birth_date    0\n",
       "gender        0\n",
       "salary        0\n",
       "from_date     0\n",
       "dtype: int64"
      ]
     },
     "execution_count": 27,
     "metadata": {},
     "output_type": "execute_result"
    }
   ],
   "source": [
    "df.isna().sum()"
   ]
  },
  {
   "cell_type": "code",
   "execution_count": 28,
   "metadata": {},
   "outputs": [
    {
     "data": {
      "text/plain": [
       "Index(['title', 'first_name', 'last_name', 'birth_date', 'gender', 'salary',\n",
       "       'from_date'],\n",
       "      dtype='object')"
      ]
     },
     "execution_count": 28,
     "metadata": {},
     "output_type": "execute_result"
    }
   ],
   "source": [
    "df.columns"
   ]
  },
  {
   "cell_type": "code",
   "execution_count": 29,
   "metadata": {},
   "outputs": [
    {
     "data": {
      "text/html": [
       "<div>\n",
       "<style scoped>\n",
       "    .dataframe tbody tr th:only-of-type {\n",
       "        vertical-align: middle;\n",
       "    }\n",
       "\n",
       "    .dataframe tbody tr th {\n",
       "        vertical-align: top;\n",
       "    }\n",
       "\n",
       "    .dataframe thead th {\n",
       "        text-align: right;\n",
       "    }\n",
       "</style>\n",
       "<table border=\"1\" class=\"dataframe\">\n",
       "  <thead>\n",
       "    <tr style=\"text-align: right;\">\n",
       "      <th></th>\n",
       "      <th>salary</th>\n",
       "    </tr>\n",
       "  </thead>\n",
       "  <tbody>\n",
       "    <tr>\n",
       "      <th>count</th>\n",
       "      <td>300024.000000</td>\n",
       "    </tr>\n",
       "    <tr>\n",
       "      <th>mean</th>\n",
       "      <td>52970.732451</td>\n",
       "    </tr>\n",
       "    <tr>\n",
       "      <th>std</th>\n",
       "      <td>14301.478491</td>\n",
       "    </tr>\n",
       "    <tr>\n",
       "      <th>min</th>\n",
       "      <td>40000.000000</td>\n",
       "    </tr>\n",
       "    <tr>\n",
       "      <th>25%</th>\n",
       "      <td>40000.000000</td>\n",
       "    </tr>\n",
       "    <tr>\n",
       "      <th>50%</th>\n",
       "      <td>48681.000000</td>\n",
       "    </tr>\n",
       "    <tr>\n",
       "      <th>75%</th>\n",
       "      <td>61758.000000</td>\n",
       "    </tr>\n",
       "    <tr>\n",
       "      <th>max</th>\n",
       "      <td>129492.000000</td>\n",
       "    </tr>\n",
       "  </tbody>\n",
       "</table>\n",
       "</div>"
      ],
      "text/plain": [
       "              salary\n",
       "count  300024.000000\n",
       "mean    52970.732451\n",
       "std     14301.478491\n",
       "min     40000.000000\n",
       "25%     40000.000000\n",
       "50%     48681.000000\n",
       "75%     61758.000000\n",
       "max    129492.000000"
      ]
     },
     "execution_count": 29,
     "metadata": {},
     "output_type": "execute_result"
    }
   ],
   "source": [
    "df.describe()"
   ]
  },
  {
   "cell_type": "code",
   "execution_count": 30,
   "metadata": {},
   "outputs": [
    {
     "data": {
      "text/plain": [
       "<AxesSubplot:ylabel='Frequency'>"
      ]
     },
     "execution_count": 30,
     "metadata": {},
     "output_type": "execute_result"
    },
    {
     "data": {
      "image/png": "[encoded data removed]",
      "text/plain": [
       "<Figure size 1152x576 with 1 Axes>"
      ]
     },
     "metadata": {},
     "output_type": "display_data"
    }
   ],
   "source": [
    "df.salary.plot(kind='hist', bins=50)"
   ]
  },
  {
   "cell_type": "code",
   "execution_count": 31,
   "metadata": {},
   "outputs": [
    {
     "data": {
      "text/plain": [
       "<AxesSubplot:xlabel='salary'>"
      ]
     },
     "execution_count": 31,
     "metadata": {},
     "output_type": "execute_result"
    },
    {
     "data": {
      "image/png": "[encoded data removed]",
      "text/plain": [
       "<Figure size 1152x576 with 1 Axes>"
      ]
     },
     "metadata": {},
     "output_type": "display_data"
    }
   ],
   "source": [
    "sns.boxplot(x='salary', data=df)"
   ]
  },
  {
   "cell_type": "code",
   "execution_count": 32,
   "metadata": {},
   "outputs": [
    {
     "data": {
      "text/plain": [
       "<AxesSubplot:xlabel='salary', ylabel='Density'>"
      ]
     },
     "execution_count": 32,
     "metadata": {},
     "output_type": "execute_result"
    },
    {
     "data": {
      "image/png": "[encoded data removed]",
      "text/plain": [
       "<Figure size 1152x576 with 1 Axes>"
      ]
     },
     "metadata": {},
     "output_type": "display_data"
    }
   ],
   "source": [
    "sns.kdeplot(df.salary)"
   ]
  },
  {
   "cell_type": "code",
   "execution_count": 33,
   "metadata": {},
   "outputs": [
    {
     "data": {
      "text/plain": [
       "Engineer              105710\n",
       "Senior Staff           92844\n",
       "Staff                  41123\n",
       "Senior Engineer        30047\n",
       "Technique Leader       15148\n",
       "Assistant Engineer     15128\n",
       "Manager                   24\n",
       "Name: title, dtype: int64"
      ]
     },
     "execution_count": 33,
     "metadata": {},
     "output_type": "execute_result"
    }
   ],
   "source": [
    "df.title.value_counts()"
   ]
  },
  {
   "cell_type": "code",
   "execution_count": 35,
   "metadata": {},
   "outputs": [
    {
     "data": {
      "text/plain": [
       "<AxesSubplot:>"
      ]
     },
     "execution_count": 35,
     "metadata": {},
     "output_type": "execute_result"
    },
    {
     "data": {
      "image/png": "[encoded data removed]",
      "text/plain": [
       "<Figure size 1152x576 with 1 Axes>"
      ]
     },
     "metadata": {},
     "output_type": "display_data"
    }
   ],
   "source": [
    "df.corr().plot(kind='bar')"
   ]
  },
  {
   "cell_type": "code",
   "execution_count": 39,
   "metadata": {},
   "outputs": [
    {
     "data": {
      "text/plain": [
       "<AxesSubplot:xlabel='title'>"
      ]
     },
     "execution_count": 39,
     "metadata": {},
     "output_type": "execute_result"
    },
    {
     "data": {
      "image/png": "[encoded data removed]",
      "text/plain": [
       "<Figure size 1152x576 with 1 Axes>"
      ]
     },
     "metadata": {},
     "output_type": "display_data"
    }
   ],
   "source": [
    "# what title has the highest salary?\n",
    "df.groupby('title').salary.max().plot(kind='bar')"
   ]
  },
  {
   "cell_type": "code",
   "execution_count": 40,
   "metadata": {},
   "outputs": [
    {
     "data": {
      "text/plain": [
       "<AxesSubplot:xlabel='title', ylabel='salary'>"
      ]
     },
     "execution_count": 40,
     "metadata": {},
     "output_type": "execute_result"
    },
    {
     "data": {
      "image/png": "[encoded data removed]",
      "text/plain": [
       "<Figure size 1152x576 with 1 Axes>"
      ]
     },
     "metadata": {},
     "output_type": "display_data"
    }
   ],
   "source": [
    "sns.barplot(x='title', y='salary', data=df)"
   ]
  },
  {
   "cell_type": "code",
   "execution_count": 44,
   "metadata": {},
   "outputs": [
    {
     "data": {
      "text/plain": [
       "<AxesSubplot:xlabel='title', ylabel='salary'>"
      ]
     },
     "execution_count": 44,
     "metadata": {},
     "output_type": "execute_result"
    },
    {
     "data": {
      "image/png": "[encoded data removed]",
      "text/plain": [
       "<Figure size 1152x576 with 1 Axes>"
      ]
     },
     "metadata": {},
     "output_type": "display_data"
    }
   ],
   "source": [
    "# how many senior engineers or staff are there?\n",
    "sns.barplot(x='title', y='salary', data=df[df.title.str.contains('Senior')])"
   ]
  },
  {
   "cell_type": "code",
   "execution_count": 45,
   "metadata": {},
   "outputs": [
    {
     "data": {
      "text/html": [
       "<div>\n",
       "<style scoped>\n",
       "    .dataframe tbody tr th:only-of-type {\n",
       "        vertical-align: middle;\n",
       "    }\n",
       "\n",
       "    .dataframe tbody tr th {\n",
       "        vertical-align: top;\n",
       "    }\n",
       "\n",
       "    .dataframe thead th {\n",
       "        text-align: right;\n",
       "    }\n",
       "</style>\n",
       "<table border=\"1\" class=\"dataframe\">\n",
       "  <thead>\n",
       "    <tr style=\"text-align: right;\">\n",
       "      <th></th>\n",
       "      <th>title</th>\n",
       "      <th>first_name</th>\n",
       "      <th>last_name</th>\n",
       "      <th>birth_date</th>\n",
       "      <th>gender</th>\n",
       "      <th>salary</th>\n",
       "      <th>from_date</th>\n",
       "    </tr>\n",
       "  </thead>\n",
       "  <tbody>\n",
       "    <tr>\n",
       "      <th>0</th>\n",
       "      <td>Senior Engineer</td>\n",
       "      <td>Georgi</td>\n",
       "      <td>Facello</td>\n",
       "      <td>1953-09-02</td>\n",
       "      <td>M</td>\n",
       "      <td>60117</td>\n",
       "      <td>1986-06-26</td>\n",
       "    </tr>\n",
       "    <tr>\n",
       "      <th>1</th>\n",
       "      <td>Staff</td>\n",
       "      <td>Bezalel</td>\n",
       "      <td>Simmel</td>\n",
       "      <td>1964-06-02</td>\n",
       "      <td>F</td>\n",
       "      <td>65828</td>\n",
       "      <td>1996-08-03</td>\n",
       "    </tr>\n",
       "    <tr>\n",
       "      <th>2</th>\n",
       "      <td>Senior Engineer</td>\n",
       "      <td>Parto</td>\n",
       "      <td>Bamford</td>\n",
       "      <td>1959-12-03</td>\n",
       "      <td>M</td>\n",
       "      <td>40006</td>\n",
       "      <td>1995-12-03</td>\n",
       "    </tr>\n",
       "    <tr>\n",
       "      <th>3</th>\n",
       "      <td>Engineer</td>\n",
       "      <td>Chirstian</td>\n",
       "      <td>Koblick</td>\n",
       "      <td>1954-05-01</td>\n",
       "      <td>M</td>\n",
       "      <td>40054</td>\n",
       "      <td>1986-12-01</td>\n",
       "    </tr>\n",
       "    <tr>\n",
       "      <th>4</th>\n",
       "      <td>Senior Staff</td>\n",
       "      <td>Kyoichi</td>\n",
       "      <td>Maliniak</td>\n",
       "      <td>1955-01-21</td>\n",
       "      <td>M</td>\n",
       "      <td>78228</td>\n",
       "      <td>1996-09-12</td>\n",
       "    </tr>\n",
       "  </tbody>\n",
       "</table>\n",
       "</div>"
      ],
      "text/plain": [
       "             title first_name last_name birth_date gender  salary  from_date\n",
       "0  Senior Engineer     Georgi   Facello 1953-09-02      M   60117 1986-06-26\n",
       "1            Staff    Bezalel    Simmel 1964-06-02      F   65828 1996-08-03\n",
       "2  Senior Engineer      Parto   Bamford 1959-12-03      M   40006 1995-12-03\n",
       "3         Engineer  Chirstian   Koblick 1954-05-01      M   40054 1986-12-01\n",
       "4     Senior Staff    Kyoichi  Maliniak 1955-01-21      M   78228 1996-09-12"
      ]
     },
     "execution_count": 45,
     "metadata": {},
     "output_type": "execute_result"
    }
   ],
   "source": [
    "df.head()"
   ]
  },
  {
   "cell_type": "code",
   "execution_count": 47,
   "metadata": {},
   "outputs": [
    {
     "data": {
      "text/plain": [
       "array(['1986-06-26T00:00:00.000000000', '1996-08-03T00:00:00.000000000',\n",
       "       '1995-12-03T00:00:00.000000000', ...,\n",
       "       '2002-05-28T00:00:00.000000000', '2000-08-04T00:00:00.000000000',\n",
       "       '2001-05-12T00:00:00.000000000'], dtype='datetime64[ns]')"
      ]
     },
     "execution_count": 47,
     "metadata": {},
     "output_type": "execute_result"
    }
   ],
   "source": [
    "df.from_date.unique()"
   ]
  },
  {
   "cell_type": "code",
   "execution_count": 48,
   "metadata": {},
   "outputs": [
    {
     "data": {
      "text/plain": [
       "40000"
      ]
     },
     "execution_count": 48,
     "metadata": {},
     "output_type": "execute_result"
    }
   ],
   "source": [
    "df.salary.min()"
   ]
  },
  {
   "cell_type": "code",
   "execution_count": 68,
   "metadata": {},
   "outputs": [
    {
     "name": "stdout",
     "output_type": "stream",
     "text": [
      "               title first_name  last_name birth_date gender  salary  \\\n",
      "5    Senior Engineer     Anneke    Preusig 1953-04-20      F   40000   \n",
      "11          Engineer   Patricio  Bridgland 1960-10-04      M   40000   \n",
      "12      Senior Staff  Eberhardt     Terkki 1963-06-07      M   40000   \n",
      "14      Senior Staff   Guoxiang  Nooteboom 1959-08-19      M   40000   \n",
      "19          Engineer     Mayuko    Warwick 1952-12-24      M   40000   \n",
      "21          Engineer     Shahaf     Famili 1952-07-08      M   40000   \n",
      "24  Technique Leader  Prasadram     Heyers 1958-10-31      M   40000   \n",
      "26          Engineer     Divier    Reistad 1962-07-10      F   40000   \n",
      "30          Engineer    Karsten     Joslin 1959-01-27      M   40000   \n",
      "36          Engineer    Pradeep   Makrucki 1963-07-22      M   40000   \n",
      "\n",
      "    from_date  \n",
      "5  1990-08-05  \n",
      "11 1992-12-18  \n",
      "12 1985-10-20  \n",
      "14 1992-09-19  \n",
      "19 1997-12-30  \n",
      "21 1999-09-03  \n",
      "24 1987-08-17  \n",
      "26 1995-04-02  \n",
      "30 1991-09-01  \n",
      "36 1990-12-05  \n"
     ]
    }
   ],
   "source": [
    "# get the ten employees with the lowest salary\n",
    "print(df[df.salary == df.salary.min()].head(10))\n"
   ]
  },
  {
   "cell_type": "code",
   "execution_count": 55,
   "metadata": {},
   "outputs": [
    {
     "data": {
      "text/plain": [
       "first_name\n",
       "Aamer         228\n",
       "Aamod         216\n",
       "Abdelaziz     227\n",
       "Abdelghani    247\n",
       "Abdelkader    222\n",
       "             ... \n",
       "Ziyad         229\n",
       "Zongyan       254\n",
       "Zorica        225\n",
       "Zsolt         236\n",
       "Zvonko        258\n",
       "Name: first_name, Length: 1275, dtype: int64"
      ]
     },
     "execution_count": 55,
     "metadata": {},
     "output_type": "execute_result"
    }
   ],
   "source": [
    "df.groupby('first_name').first_name.count()"
   ]
  },
  {
   "cell_type": "code",
   "execution_count": 64,
   "metadata": {},
   "outputs": [
    {
     "data": {
      "text/plain": [
       "title\n",
       "Senior Engineer    30047\n",
       "Name: title, dtype: int64"
      ]
     },
     "execution_count": 64,
     "metadata": {},
     "output_type": "execute_result"
    }
   ],
   "source": [
    "df[df.title == 'Senior Engineer'].groupby('title').title.count()"
   ]
  },
  {
   "cell_type": "code",
   "execution_count": 67,
   "metadata": {},
   "outputs": [
    {
     "data": {
      "text/plain": [
       "<AxesSubplot:xlabel='title', ylabel='salary'>"
      ]
     },
     "execution_count": 67,
     "metadata": {},
     "output_type": "execute_result"
    },
    {
     "data": {
      "image/png": "[encoded data removed]",
      "text/plain": [
       "<Figure size 1152x576 with 1 Axes>"
      ]
     },
     "metadata": {},
     "output_type": "display_data"
    }
   ],
   "source": [
    "sns.boxplot(x='title', y='salary', data=df)"
   ]
  },
  {
   "cell_type": "code",
   "execution_count": 69,
   "metadata": {},
   "outputs": [
    {
     "name": "stdout",
     "output_type": "stream",
     "text": [
      "             title first_name last_name birth_date gender  salary  from_date\n",
      "0  Senior Engineer     Georgi   Facello 1953-09-02      M   60117 1986-06-26\n",
      "1            Staff    Bezalel    Simmel 1964-06-02      F   65828 1996-08-03\n",
      "2  Senior Engineer      Parto   Bamford 1959-12-03      M   40006 1995-12-03\n",
      "3         Engineer  Chirstian   Koblick 1954-05-01      M   40054 1986-12-01\n",
      "4     Senior Staff    Kyoichi  Maliniak 1955-01-21      M   78228 1996-09-12\n"
     ]
    }
   ],
   "source": [
    "print(df.head())"
   ]
  },
  {
   "cell_type": "code",
   "execution_count": 70,
   "metadata": {},
   "outputs": [
    {
     "data": {
      "text/plain": [
       "title\n",
       "Engineer    105710\n",
       "Name: title, dtype: int64"
      ]
     },
     "execution_count": 70,
     "metadata": {},
     "output_type": "execute_result"
    }
   ],
   "source": [
    "# how many engineers are there?\n",
    "df[df.title == 'Engineer'].groupby('title').title.count()"
   ]
  },
  {
   "cell_type": "code",
   "execution_count": 71,
   "metadata": {},
   "outputs": [
    {
     "data": {
      "text/plain": [
       "title\n",
       "Senior Engineer    48425.490299\n",
       "Name: salary, dtype: float64"
      ]
     },
     "execution_count": 71,
     "metadata": {},
     "output_type": "execute_result"
    }
   ],
   "source": [
    "# what is the average salary of a senior engineer?\n",
    "df[df.title == 'Senior Engineer'].groupby('title').salary.mean()"
   ]
  },
  {
   "cell_type": "code",
   "execution_count": 72,
   "metadata": {},
   "outputs": [
    {
     "data": {
      "text/plain": [
       "title\n",
       "Engineer    48547.807738\n",
       "Name: salary, dtype: float64"
      ]
     },
     "execution_count": 72,
     "metadata": {},
     "output_type": "execute_result"
    }
   ],
   "source": [
    "# what is the average salary of an engineer?\n",
    "df[df.title == 'Engineer'].groupby('title').salary.mean()"
   ]
  },
  {
   "cell_type": "code",
   "execution_count": 73,
   "metadata": {},
   "outputs": [
    {
     "data": {
      "text/html": [
       "<div>\n",
       "<style scoped>\n",
       "    .dataframe tbody tr th:only-of-type {\n",
       "        vertical-align: middle;\n",
       "    }\n",
       "\n",
       "    .dataframe tbody tr th {\n",
       "        vertical-align: top;\n",
       "    }\n",
       "\n",
       "    .dataframe thead th {\n",
       "        text-align: right;\n",
       "    }\n",
       "</style>\n",
       "<table border=\"1\" class=\"dataframe\">\n",
       "  <thead>\n",
       "    <tr style=\"text-align: right;\">\n",
       "      <th></th>\n",
       "      <th>title</th>\n",
       "      <th>first_name</th>\n",
       "      <th>last_name</th>\n",
       "      <th>birth_date</th>\n",
       "      <th>gender</th>\n",
       "      <th>salary</th>\n",
       "      <th>from_date</th>\n",
       "    </tr>\n",
       "  </thead>\n",
       "  <tbody>\n",
       "    <tr>\n",
       "      <th>105024</th>\n",
       "      <td>Senior Staff</td>\n",
       "      <td>Charmane</td>\n",
       "      <td>Griswold</td>\n",
       "      <td>1956-01-14</td>\n",
       "      <td>M</td>\n",
       "      <td>129492</td>\n",
       "      <td>1999-10-12</td>\n",
       "    </tr>\n",
       "  </tbody>\n",
       "</table>\n",
       "</div>"
      ],
      "text/plain": [
       "               title first_name last_name birth_date gender  salary  from_date\n",
       "105024  Senior Staff   Charmane  Griswold 1956-01-14      M  129492 1999-10-12"
      ]
     },
     "execution_count": 73,
     "metadata": {},
     "output_type": "execute_result"
    }
   ],
   "source": [
    "# who is the person with the highest salary?\n",
    "df[df.salary == df.salary.max()].head(1)"
   ]
  },
  {
   "cell_type": "code",
   "execution_count": 74,
   "metadata": {},
   "outputs": [
    {
     "data": {
      "text/html": [
       "<div>\n",
       "<style scoped>\n",
       "    .dataframe tbody tr th:only-of-type {\n",
       "        vertical-align: middle;\n",
       "    }\n",
       "\n",
       "    .dataframe tbody tr th {\n",
       "        vertical-align: top;\n",
       "    }\n",
       "\n",
       "    .dataframe thead th {\n",
       "        text-align: right;\n",
       "    }\n",
       "</style>\n",
       "<table border=\"1\" class=\"dataframe\">\n",
       "  <thead>\n",
       "    <tr style=\"text-align: right;\">\n",
       "      <th></th>\n",
       "      <th>title</th>\n",
       "      <th>first_name</th>\n",
       "      <th>last_name</th>\n",
       "      <th>birth_date</th>\n",
       "      <th>gender</th>\n",
       "      <th>salary</th>\n",
       "      <th>from_date</th>\n",
       "    </tr>\n",
       "  </thead>\n",
       "  <tbody>\n",
       "    <tr>\n",
       "      <th>5</th>\n",
       "      <td>Senior Engineer</td>\n",
       "      <td>Anneke</td>\n",
       "      <td>Preusig</td>\n",
       "      <td>1953-04-20</td>\n",
       "      <td>F</td>\n",
       "      <td>40000</td>\n",
       "      <td>1990-08-05</td>\n",
       "    </tr>\n",
       "  </tbody>\n",
       "</table>\n",
       "</div>"
      ],
      "text/plain": [
       "             title first_name last_name birth_date gender  salary  from_date\n",
       "5  Senior Engineer     Anneke   Preusig 1953-04-20      F   40000 1990-08-05"
      ]
     },
     "execution_count": 74,
     "metadata": {},
     "output_type": "execute_result"
    }
   ],
   "source": [
    "# who is the person with the lowest salary?\n",
    "df[df.salary == df.salary.min()].head(1)"
   ]
  },
  {
   "cell_type": "code",
   "execution_count": 76,
   "metadata": {},
   "outputs": [
    {
     "data": {
      "text/plain": [
       "gender\n",
       "M    52982.002945\n",
       "Name: salary, dtype: float64"
      ]
     },
     "execution_count": 76,
     "metadata": {},
     "output_type": "execute_result"
    }
   ],
   "source": [
    "# what is the average salary of men?\n",
    "df[df.gender == 'M'].groupby('gender').salary.mean()"
   ]
  },
  {
   "cell_type": "code",
   "execution_count": 77,
   "metadata": {},
   "outputs": [
    {
     "data": {
      "text/plain": [
       "gender\n",
       "F    52953.836428\n",
       "Name: salary, dtype: float64"
      ]
     },
     "execution_count": 77,
     "metadata": {},
     "output_type": "execute_result"
    }
   ],
   "source": [
    "# what is the average salary of women?\n",
    "df[df.gender == 'F'].groupby('gender').salary.mean()"
   ]
  },
  {
   "cell_type": "code",
   "execution_count": 80,
   "metadata": {},
   "outputs": [
    {
     "data": {
      "text/plain": [
       "title            first_name  last_name    birth_date  gender  salary  from_date \n",
       "Senior Engineer  Aamer       Armand       1952-08-12  M       40000   1990-09-15    1\n",
       "                 Premsyl     Murrill      1959-08-05  M       43434   2000-01-09    1\n",
       "                 Prodip      Baik         1957-06-26  M       59616   2000-01-14    1\n",
       "                             Angiulli     1960-02-18  M       63512   1985-08-19    1\n",
       "                 Premsyl     Shimshoni    1955-06-10  M       56423   1986-01-30    1\n",
       "                                                                                   ..\n",
       "                 Howell      Birta        1959-09-01  M       46873   1987-05-30    1\n",
       "                             Buchter      1964-06-04  M       40000   1989-02-09    1\n",
       "                             Cappelletti  1953-06-27  M       40000   1985-11-05    1\n",
       "                             Compeau      1952-02-17  M       40000   1993-07-24    1\n",
       "                 Zvonko      Suomi        1957-07-22  M       42157   1993-05-18    1\n",
       "Length: 18008, dtype: int64"
      ]
     },
     "execution_count": 80,
     "metadata": {},
     "output_type": "execute_result"
    }
   ],
   "source": [
    "# how many males are senior engineers?\n",
    "male_senior_engineers = df[(df.gender == 'm'.upper()) & (df.title == 'Senior Engineer')].value_counts()\n",
    "male_senior_engineers"
   ]
  },
  {
   "cell_type": "code",
   "execution_count": 81,
   "metadata": {},
   "outputs": [
    {
     "data": {
      "text/plain": [
       "title            first_name  last_name      birth_date  gender  salary  from_date \n",
       "Senior Engineer  Aamer       Beznosov       1962-09-24  F       46010   1988-09-21    1\n",
       "                 Pranay      Dehkordi       1953-01-05  F       40000   1996-11-17    1\n",
       "                 Pranav      Sudbeck        1961-12-20  F       71413   1991-06-21    1\n",
       "                             Taubman        1952-07-22  F       43102   1990-10-05    1\n",
       "                             Vickson        1959-12-17  F       57111   1991-03-29    1\n",
       "                                                                                     ..\n",
       "                 Hironobu    Veeraraghavan  1961-05-10  F       54292   1990-07-18    1\n",
       "                 Hironoby    Llado          1953-03-31  F       40000   1989-01-03    1\n",
       "                             Mahnke         1958-09-13  F       43775   1995-10-03    1\n",
       "                             Melichar       1952-12-31  F       66422   1988-04-20    1\n",
       "                 Zvonko      Wroclawski     1956-10-25  F       40030   1985-07-20    1\n",
       "Length: 12039, dtype: int64"
      ]
     },
     "execution_count": 81,
     "metadata": {},
     "output_type": "execute_result"
    }
   ],
   "source": [
    "# how many females are senior engineers?\n",
    "female_senior_engineers = df[(df.gender == 'f'.upper()) & (df.title == 'Senior Engineer')].value_counts()\n",
    "female_senior_engineers"
   ]
  },
  {
   "cell_type": "code",
   "execution_count": null,
   "metadata": {},
   "outputs": [],
   "source": []
  },
  {
   "cell_type": "code",
   "execution_count": null,
   "metadata": {},
   "outputs": [],
   "source": []
  }
 ],
 "metadata": {
  "interpreter": {
   "hash": "40d3a090f54c6569ab1632332b64b2c03c39dcf918b08424e98f38b5ae0af88f"
  },
  "kernelspec": {
   "display_name": "Python 3.9.7 64-bit ('base': conda)",
   "language": "python",
   "name": "python3"
  },
  "language_info": {
   "codemirror_mode": {
    "name": "ipython",
    "version": 3
   },
   "file_extension": ".py",
   "mimetype": "text/x-python",
   "name": "python",
   "nbconvert_exporter": "python",
   "pygments_lexer": "ipython3",
   "version": "3.10.0"
  },
  "orig_nbformat": 4
 },
 "nbformat": 4,
 "nbformat_minor": 2
}
