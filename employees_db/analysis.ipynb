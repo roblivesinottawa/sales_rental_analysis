{
 "cells": [
  {
   "cell_type": "code",
   "execution_count": 1,
   "metadata": {},
   "outputs": [],
   "source": [
    "# %pip install mysql-connector-python"
   ]
  },
  {
   "cell_type": "code",
   "execution_count": 1,
   "metadata": {},
   "outputs": [],
   "source": [
    "import mysql.connector\n",
    "from mysql.connector import connect, Error\n",
    "import pandas as pd\n",
    "import numpy as np\n",
    "import matplotlib.pyplot as plt\n",
    "import seaborn as sns\n",
    "\n",
    "plt.rcParams['figure.figsize'] = (16, 8)\n",
    "sns.set_style('darkgrid')"
   ]
  },
  {
   "cell_type": "code",
   "execution_count": 2,
   "metadata": {},
   "outputs": [],
   "source": [
    "employees = mysql.connector.connect(\n",
    "    host=\"localhost\",\n",
    "    user=\"root\",\n",
    "    passwd=input(\"please, enter you password: \"),\n",
    "    database=\"employees\"\n",
    ")\n",
    "\n",
    "cursor = employees.cursor()"
   ]
  },
  {
   "cell_type": "code",
   "execution_count": 4,
   "metadata": {},
   "outputs": [],
   "source": [
    "df = pd.read_sql_query(\n",
    "    '''\n",
    "    SELECT e.birth_date, e.first_name, e.last_name, e.gender,\n",
    "    t.title, t.from_date,\n",
    "    s.salary\n",
    "    FROM employees e\n",
    "    INNER JOIN \n",
    "    titles t \n",
    "    ON e.emp_no = t.emp_no\n",
    "    INNER JOIN\n",
    "    salaries s\n",
    "    ON t.emp_no = s.emp_no\n",
    "    ORDER BY e.emp_no;\n",
    "    ''', \n",
    "    employees, parse_dates=[\"from_date\", \"birth_date\"]\n",
    "    )\n"
   ]
  },
  {
   "cell_type": "code",
   "execution_count": 5,
   "metadata": {},
   "outputs": [
    {
     "name": "stdout",
     "output_type": "stream",
     "text": [
      "  birth_date first_name last_name gender            title  from_date  salary\n",
      "0 1953-09-02     Georgi   Facello      M  Senior Engineer 1986-06-26   60117\n",
      "1 1953-09-02     Georgi   Facello      M  Senior Engineer 1986-06-26   62102\n",
      "2 1953-09-02     Georgi   Facello      M  Senior Engineer 1986-06-26   66074\n",
      "3 1953-09-02     Georgi   Facello      M  Senior Engineer 1986-06-26   66596\n",
      "4 1953-09-02     Georgi   Facello      M  Senior Engineer 1986-06-26   66961\n",
      "5 1953-09-02     Georgi   Facello      M  Senior Engineer 1986-06-26   71046\n",
      "6 1953-09-02     Georgi   Facello      M  Senior Engineer 1986-06-26   74333\n",
      "7 1953-09-02     Georgi   Facello      M  Senior Engineer 1986-06-26   75286\n",
      "8 1953-09-02     Georgi   Facello      M  Senior Engineer 1986-06-26   75994\n",
      "9 1953-09-02     Georgi   Facello      M  Senior Engineer 1986-06-26   76884\n"
     ]
    }
   ],
   "source": [
    "print(df.head(10))"
   ]
  },
  {
   "cell_type": "code",
   "execution_count": 6,
   "metadata": {},
   "outputs": [],
   "source": [
    "column_names = ['title', 'first_name', 'last_name', 'birth_date', 'gender', 'salary', 'from_date']\n",
    "df = df.reindex(columns=column_names)"
   ]
  },
  {
   "cell_type": "code",
   "execution_count": 7,
   "metadata": {},
   "outputs": [
    {
     "name": "stdout",
     "output_type": "stream",
     "text": [
      "             title first_name last_name birth_date gender  salary  from_date\n",
      "0  Senior Engineer     Georgi   Facello 1953-09-02      M   60117 1986-06-26\n",
      "1  Senior Engineer     Georgi   Facello 1953-09-02      M   62102 1986-06-26\n",
      "2  Senior Engineer     Georgi   Facello 1953-09-02      M   66074 1986-06-26\n",
      "3  Senior Engineer     Georgi   Facello 1953-09-02      M   66596 1986-06-26\n",
      "4  Senior Engineer     Georgi   Facello 1953-09-02      M   66961 1986-06-26\n",
      "5  Senior Engineer     Georgi   Facello 1953-09-02      M   71046 1986-06-26\n",
      "6  Senior Engineer     Georgi   Facello 1953-09-02      M   74333 1986-06-26\n",
      "7  Senior Engineer     Georgi   Facello 1953-09-02      M   75286 1986-06-26\n",
      "8  Senior Engineer     Georgi   Facello 1953-09-02      M   75994 1986-06-26\n",
      "9  Senior Engineer     Georgi   Facello 1953-09-02      M   76884 1986-06-26\n"
     ]
    }
   ],
   "source": [
    "print(df.head(10))"
   ]
  },
  {
   "cell_type": "code",
   "execution_count": 8,
   "metadata": {},
   "outputs": [
    {
     "data": {
      "text/plain": [
       "(4638507, 7)"
      ]
     },
     "execution_count": 8,
     "metadata": {},
     "output_type": "execute_result"
    }
   ],
   "source": [
    "df.shape"
   ]
  },
  {
   "cell_type": "code",
   "execution_count": 9,
   "metadata": {},
   "outputs": [
    {
     "name": "stdout",
     "output_type": "stream",
     "text": [
      "<class 'pandas.core.frame.DataFrame'>\n",
      "RangeIndex: 4638507 entries, 0 to 4638506\n",
      "Data columns (total 7 columns):\n",
      " #   Column      Dtype         \n",
      "---  ------      -----         \n",
      " 0   title       object        \n",
      " 1   first_name  object        \n",
      " 2   last_name   object        \n",
      " 3   birth_date  datetime64[ns]\n",
      " 4   gender      object        \n",
      " 5   salary      int64         \n",
      " 6   from_date   datetime64[ns]\n",
      "dtypes: datetime64[ns](2), int64(1), object(4)\n",
      "memory usage: 247.7+ MB\n"
     ]
    }
   ],
   "source": [
    "df.info()"
   ]
  },
  {
   "cell_type": "code",
   "execution_count": 10,
   "metadata": {},
   "outputs": [
    {
     "data": {
      "text/plain": [
       "title         0\n",
       "first_name    0\n",
       "last_name     0\n",
       "birth_date    0\n",
       "gender        0\n",
       "salary        0\n",
       "from_date     0\n",
       "dtype: int64"
      ]
     },
     "execution_count": 10,
     "metadata": {},
     "output_type": "execute_result"
    }
   ],
   "source": [
    "df.isna().sum()"
   ]
  },
  {
   "cell_type": "code",
   "execution_count": 11,
   "metadata": {},
   "outputs": [
    {
     "data": {
      "text/plain": [
       "Index(['title', 'first_name', 'last_name', 'birth_date', 'gender', 'salary',\n",
       "       'from_date'],\n",
       "      dtype='object')"
      ]
     },
     "execution_count": 11,
     "metadata": {},
     "output_type": "execute_result"
    }
   ],
   "source": [
    "df.columns"
   ]
  },
  {
   "cell_type": "code",
   "execution_count": 12,
   "metadata": {},
   "outputs": [
    {
     "data": {
      "text/html": [
       "<div>\n",
       "<style scoped>\n",
       "    .dataframe tbody tr th:only-of-type {\n",
       "        vertical-align: middle;\n",
       "    }\n",
       "\n",
       "    .dataframe tbody tr th {\n",
       "        vertical-align: top;\n",
       "    }\n",
       "\n",
       "    .dataframe thead th {\n",
       "        text-align: right;\n",
       "    }\n",
       "</style>\n",
       "<table border=\"1\" class=\"dataframe\">\n",
       "  <thead>\n",
       "    <tr style=\"text-align: right;\">\n",
       "      <th></th>\n",
       "      <th>salary</th>\n",
       "    </tr>\n",
       "  </thead>\n",
       "  <tbody>\n",
       "    <tr>\n",
       "      <th>count</th>\n",
       "      <td>4.638507e+06</td>\n",
       "    </tr>\n",
       "    <tr>\n",
       "      <th>mean</th>\n",
       "      <td>6.445426e+04</td>\n",
       "    </tr>\n",
       "    <tr>\n",
       "      <th>std</th>\n",
       "      <td>1.698653e+04</td>\n",
       "    </tr>\n",
       "    <tr>\n",
       "      <th>min</th>\n",
       "      <td>3.862300e+04</td>\n",
       "    </tr>\n",
       "    <tr>\n",
       "      <th>25%</th>\n",
       "      <td>5.119200e+04</td>\n",
       "    </tr>\n",
       "    <tr>\n",
       "      <th>50%</th>\n",
       "      <td>6.184400e+04</td>\n",
       "    </tr>\n",
       "    <tr>\n",
       "      <th>75%</th>\n",
       "      <td>7.489700e+04</td>\n",
       "    </tr>\n",
       "    <tr>\n",
       "      <th>max</th>\n",
       "      <td>1.582200e+05</td>\n",
       "    </tr>\n",
       "  </tbody>\n",
       "</table>\n",
       "</div>"
      ],
      "text/plain": [
       "             salary\n",
       "count  4.638507e+06\n",
       "mean   6.445426e+04\n",
       "std    1.698653e+04\n",
       "min    3.862300e+04\n",
       "25%    5.119200e+04\n",
       "50%    6.184400e+04\n",
       "75%    7.489700e+04\n",
       "max    1.582200e+05"
      ]
     },
     "execution_count": 12,
     "metadata": {},
     "output_type": "execute_result"
    }
   ],
   "source": [
    "df.describe()"
   ]
  },
  {
   "cell_type": "code",
   "execution_count": 13,
   "metadata": {},
   "outputs": [
    {
     "data": {
      "text/plain": [
       "<AxesSubplot:ylabel='Frequency'>"
      ]
     },
     "execution_count": 13,
     "metadata": {},
     "output_type": "execute_result"
    },
    {
     "data": {
      "image/png": "[encoded data removed]",
      "text/plain": [
       "<Figure size 1152x576 with 1 Axes>"
      ]
     },
     "metadata": {},
     "output_type": "display_data"
    }
   ],
   "source": [
    "df.salary.plot(kind='hist', bins=50)"
   ]
  },
  {
   "cell_type": "code",
   "execution_count": 14,
   "metadata": {},
   "outputs": [
    {
     "data": {
      "text/plain": [
       "<AxesSubplot:xlabel='salary'>"
      ]
     },
     "execution_count": 14,
     "metadata": {},
     "output_type": "execute_result"
    },
    {
     "data": {
      "image/png": "[encoded data removed]",
      "text/plain": [
       "<Figure size 1152x576 with 1 Axes>"
      ]
     },
     "metadata": {},
     "output_type": "display_data"
    }
   ],
   "source": [
    "sns.boxplot(x='salary', data=df)"
   ]
  },
  {
   "cell_type": "code",
   "execution_count": 15,
   "metadata": {},
   "outputs": [
    {
     "data": {
      "text/plain": [
       "<AxesSubplot:xlabel='salary', ylabel='Density'>"
      ]
     },
     "execution_count": 15,
     "metadata": {},
     "output_type": "execute_result"
    },
    {
     "data": {
      "image/png": "[encoded data removed]",
      "text/plain": [
       "<Figure size 1152x576 with 1 Axes>"
      ]
     },
     "metadata": {},
     "output_type": "display_data"
    }
   ],
   "source": [
    "sns.kdeplot(df.salary)"
   ]
  },
  {
   "cell_type": "code",
   "execution_count": 16,
   "metadata": {},
   "outputs": [
    {
     "data": {
      "text/plain": [
       "Senior Engineer       1137450\n",
       "Engineer              1115673\n",
       "Senior Staff          1078920\n",
       "Staff                 1019729\n",
       "Technique Leader       143311\n",
       "Assistant Engineer     143036\n",
       "Manager                   388\n",
       "Name: title, dtype: int64"
      ]
     },
     "execution_count": 16,
     "metadata": {},
     "output_type": "execute_result"
    }
   ],
   "source": [
    "df.title.value_counts()"
   ]
  },
  {
   "cell_type": "code",
   "execution_count": 17,
   "metadata": {},
   "outputs": [
    {
     "data": {
      "text/plain": [
       "<AxesSubplot:>"
      ]
     },
     "execution_count": 17,
     "metadata": {},
     "output_type": "execute_result"
    },
    {
     "data": {
      "image/png": "[encoded data removed]",
      "text/plain": [
       "<Figure size 1152x576 with 1 Axes>"
      ]
     },
     "metadata": {},
     "output_type": "display_data"
    }
   ],
   "source": [
    "df.corr().plot(kind='bar')"
   ]
  },
  {
   "cell_type": "code",
   "execution_count": 18,
   "metadata": {},
   "outputs": [
    {
     "data": {
      "text/plain": [
       "<AxesSubplot:xlabel='title'>"
      ]
     },
     "execution_count": 18,
     "metadata": {},
     "output_type": "execute_result"
    },
    {
     "data": {
      "image/png": "[encoded data removed]",
      "text/plain": [
       "<Figure size 1152x576 with 1 Axes>"
      ]
     },
     "metadata": {},
     "output_type": "display_data"
    }
   ],
   "source": [
    "# what title has the highest salary?\n",
    "df.groupby('title').salary.max().plot(kind='bar')"
   ]
  },
  {
   "cell_type": "code",
   "execution_count": 19,
   "metadata": {},
   "outputs": [
    {
     "data": {
      "text/plain": [
       "<AxesSubplot:xlabel='title', ylabel='salary'>"
      ]
     },
     "execution_count": 19,
     "metadata": {},
     "output_type": "execute_result"
    },
    {
     "data": {
      "image/png": "[encoded data removed]",
      "text/plain": [
       "<Figure size 1152x576 with 1 Axes>"
      ]
     },
     "metadata": {},
     "output_type": "display_data"
    }
   ],
   "source": [
    "sns.barplot(x='title', y='salary', data=df)"
   ]
  },
  {
   "cell_type": "code",
   "execution_count": 20,
   "metadata": {},
   "outputs": [
    {
     "data": {
      "text/plain": [
       "<AxesSubplot:xlabel='title', ylabel='salary'>"
      ]
     },
     "execution_count": 20,
     "metadata": {},
     "output_type": "execute_result"
    },
    {
     "data": {
      "image/png": "[encoded data removed]",
      "text/plain": [
       "<Figure size 1152x576 with 1 Axes>"
      ]
     },
     "metadata": {},
     "output_type": "display_data"
    }
   ],
   "source": [
    "# how many senior engineers or staff are there?\n",
    "sns.barplot(x='title', y='salary', data=df[df.title.str.contains('Senior')])"
   ]
  },
  {
   "cell_type": "code",
   "execution_count": 21,
   "metadata": {},
   "outputs": [
    {
     "data": {
      "text/html": [
       "<div>\n",
       "<style scoped>\n",
       "    .dataframe tbody tr th:only-of-type {\n",
       "        vertical-align: middle;\n",
       "    }\n",
       "\n",
       "    .dataframe tbody tr th {\n",
       "        vertical-align: top;\n",
       "    }\n",
       "\n",
       "    .dataframe thead th {\n",
       "        text-align: right;\n",
       "    }\n",
       "</style>\n",
       "<table border=\"1\" class=\"dataframe\">\n",
       "  <thead>\n",
       "    <tr style=\"text-align: right;\">\n",
       "      <th></th>\n",
       "      <th>title</th>\n",
       "      <th>first_name</th>\n",
       "      <th>last_name</th>\n",
       "      <th>birth_date</th>\n",
       "      <th>gender</th>\n",
       "      <th>salary</th>\n",
       "      <th>from_date</th>\n",
       "    </tr>\n",
       "  </thead>\n",
       "  <tbody>\n",
       "    <tr>\n",
       "      <th>0</th>\n",
       "      <td>Senior Engineer</td>\n",
       "      <td>Georgi</td>\n",
       "      <td>Facello</td>\n",
       "      <td>1953-09-02</td>\n",
       "      <td>M</td>\n",
       "      <td>60117</td>\n",
       "      <td>1986-06-26</td>\n",
       "    </tr>\n",
       "    <tr>\n",
       "      <th>1</th>\n",
       "      <td>Senior Engineer</td>\n",
       "      <td>Georgi</td>\n",
       "      <td>Facello</td>\n",
       "      <td>1953-09-02</td>\n",
       "      <td>M</td>\n",
       "      <td>62102</td>\n",
       "      <td>1986-06-26</td>\n",
       "    </tr>\n",
       "    <tr>\n",
       "      <th>2</th>\n",
       "      <td>Senior Engineer</td>\n",
       "      <td>Georgi</td>\n",
       "      <td>Facello</td>\n",
       "      <td>1953-09-02</td>\n",
       "      <td>M</td>\n",
       "      <td>66074</td>\n",
       "      <td>1986-06-26</td>\n",
       "    </tr>\n",
       "    <tr>\n",
       "      <th>3</th>\n",
       "      <td>Senior Engineer</td>\n",
       "      <td>Georgi</td>\n",
       "      <td>Facello</td>\n",
       "      <td>1953-09-02</td>\n",
       "      <td>M</td>\n",
       "      <td>66596</td>\n",
       "      <td>1986-06-26</td>\n",
       "    </tr>\n",
       "    <tr>\n",
       "      <th>4</th>\n",
       "      <td>Senior Engineer</td>\n",
       "      <td>Georgi</td>\n",
       "      <td>Facello</td>\n",
       "      <td>1953-09-02</td>\n",
       "      <td>M</td>\n",
       "      <td>66961</td>\n",
       "      <td>1986-06-26</td>\n",
       "    </tr>\n",
       "  </tbody>\n",
       "</table>\n",
       "</div>"
      ],
      "text/plain": [
       "             title first_name last_name birth_date gender  salary  from_date\n",
       "0  Senior Engineer     Georgi   Facello 1953-09-02      M   60117 1986-06-26\n",
       "1  Senior Engineer     Georgi   Facello 1953-09-02      M   62102 1986-06-26\n",
       "2  Senior Engineer     Georgi   Facello 1953-09-02      M   66074 1986-06-26\n",
       "3  Senior Engineer     Georgi   Facello 1953-09-02      M   66596 1986-06-26\n",
       "4  Senior Engineer     Georgi   Facello 1953-09-02      M   66961 1986-06-26"
      ]
     },
     "execution_count": 21,
     "metadata": {},
     "output_type": "execute_result"
    }
   ],
   "source": [
    "df.head()"
   ]
  },
  {
   "cell_type": "code",
   "execution_count": 22,
   "metadata": {},
   "outputs": [
    {
     "data": {
      "text/plain": [
       "array(['1986-06-26T00:00:00.000000000', '1996-08-03T00:00:00.000000000',\n",
       "       '1995-12-03T00:00:00.000000000', ...,\n",
       "       '1985-02-01T00:00:00.000000000', '1985-01-01T00:00:00.000000000',\n",
       "       '1985-01-14T00:00:00.000000000'], dtype='datetime64[ns]')"
      ]
     },
     "execution_count": 22,
     "metadata": {},
     "output_type": "execute_result"
    }
   ],
   "source": [
    "df.from_date.unique()"
   ]
  },
  {
   "cell_type": "code",
   "execution_count": 23,
   "metadata": {},
   "outputs": [
    {
     "data": {
      "text/plain": [
       "38623"
      ]
     },
     "execution_count": 23,
     "metadata": {},
     "output_type": "execute_result"
    }
   ],
   "source": [
    "df.salary.min()"
   ]
  },
  {
   "cell_type": "code",
   "execution_count": 24,
   "metadata": {},
   "outputs": [
    {
     "name": "stdout",
     "output_type": "stream",
     "text": [
      "                    title first_name last_name birth_date gender  salary  \\\n",
      "2377404  Technique Leader    Olivera      Baek 1953-09-23      M   38623   \n",
      "\n",
      "         from_date  \n",
      "2377404 1999-02-21  \n"
     ]
    }
   ],
   "source": [
    "# get the ten employees with the lowest salary\n",
    "print(df[df.salary == df.salary.min()].head(10))\n"
   ]
  },
  {
   "cell_type": "code",
   "execution_count": 25,
   "metadata": {},
   "outputs": [
    {
     "data": {
      "text/plain": [
       "first_name\n",
       "Aamer         3370\n",
       "Aamod         3200\n",
       "Abdelaziz     3337\n",
       "Abdelghani    4094\n",
       "Abdelkader    3214\n",
       "              ... \n",
       "Ziyad         3350\n",
       "Zongyan       4009\n",
       "Zorica        3448\n",
       "Zsolt         3708\n",
       "Zvonko        3831\n",
       "Name: first_name, Length: 1275, dtype: int64"
      ]
     },
     "execution_count": 25,
     "metadata": {},
     "output_type": "execute_result"
    }
   ],
   "source": [
    "df.groupby('first_name').first_name.count()"
   ]
  },
  {
   "cell_type": "code",
   "execution_count": 26,
   "metadata": {},
   "outputs": [
    {
     "data": {
      "text/plain": [
       "title\n",
       "Senior Engineer    1137450\n",
       "Name: title, dtype: int64"
      ]
     },
     "execution_count": 26,
     "metadata": {},
     "output_type": "execute_result"
    }
   ],
   "source": [
    "df[df.title == 'Senior Engineer'].groupby('title').title.count()"
   ]
  },
  {
   "cell_type": "code",
   "execution_count": 27,
   "metadata": {},
   "outputs": [
    {
     "data": {
      "text/plain": [
       "<AxesSubplot:xlabel='title', ylabel='salary'>"
      ]
     },
     "execution_count": 27,
     "metadata": {},
     "output_type": "execute_result"
    },
    {
     "data": {
      "image/png": "[encoded data removed]",
      "text/plain": [
       "<Figure size 1152x576 with 1 Axes>"
      ]
     },
     "metadata": {},
     "output_type": "display_data"
    }
   ],
   "source": [
    "sns.boxplot(x='title', y='salary', data=df)"
   ]
  },
  {
   "cell_type": "code",
   "execution_count": 28,
   "metadata": {},
   "outputs": [
    {
     "name": "stdout",
     "output_type": "stream",
     "text": [
      "             title first_name last_name birth_date gender  salary  from_date\n",
      "0  Senior Engineer     Georgi   Facello 1953-09-02      M   60117 1986-06-26\n",
      "1  Senior Engineer     Georgi   Facello 1953-09-02      M   62102 1986-06-26\n",
      "2  Senior Engineer     Georgi   Facello 1953-09-02      M   66074 1986-06-26\n",
      "3  Senior Engineer     Georgi   Facello 1953-09-02      M   66596 1986-06-26\n",
      "4  Senior Engineer     Georgi   Facello 1953-09-02      M   66961 1986-06-26\n"
     ]
    }
   ],
   "source": [
    "print(df.head())"
   ]
  },
  {
   "cell_type": "code",
   "execution_count": 29,
   "metadata": {},
   "outputs": [
    {
     "data": {
      "text/plain": [
       "title\n",
       "Engineer    1115673\n",
       "Name: title, dtype: int64"
      ]
     },
     "execution_count": 29,
     "metadata": {},
     "output_type": "execute_result"
    }
   ],
   "source": [
    "# how many engineers are there?\n",
    "df[df.title == 'Engineer'].groupby('title').title.count()"
   ]
  },
  {
   "cell_type": "code",
   "execution_count": 30,
   "metadata": {},
   "outputs": [
    {
     "data": {
      "text/plain": [
       "title\n",
       "Senior Engineer    60543.21913\n",
       "Name: salary, dtype: float64"
      ]
     },
     "execution_count": 30,
     "metadata": {},
     "output_type": "execute_result"
    }
   ],
   "source": [
    "# what is the average salary of a senior engineer?\n",
    "df[df.title == 'Senior Engineer'].groupby('title').salary.mean()"
   ]
  },
  {
   "cell_type": "code",
   "execution_count": 31,
   "metadata": {},
   "outputs": [
    {
     "data": {
      "text/plain": [
       "title\n",
       "Engineer    59508.039715\n",
       "Name: salary, dtype: float64"
      ]
     },
     "execution_count": 31,
     "metadata": {},
     "output_type": "execute_result"
    }
   ],
   "source": [
    "# what is the average salary of an engineer?\n",
    "df[df.title == 'Engineer'].groupby('title').salary.mean()"
   ]
  },
  {
   "cell_type": "code",
   "execution_count": 32,
   "metadata": {},
   "outputs": [
    {
     "data": {
      "text/html": [
       "<div>\n",
       "<style scoped>\n",
       "    .dataframe tbody tr th:only-of-type {\n",
       "        vertical-align: middle;\n",
       "    }\n",
       "\n",
       "    .dataframe tbody tr th {\n",
       "        vertical-align: top;\n",
       "    }\n",
       "\n",
       "    .dataframe thead th {\n",
       "        text-align: right;\n",
       "    }\n",
       "</style>\n",
       "<table border=\"1\" class=\"dataframe\">\n",
       "  <thead>\n",
       "    <tr style=\"text-align: right;\">\n",
       "      <th></th>\n",
       "      <th>title</th>\n",
       "      <th>first_name</th>\n",
       "      <th>last_name</th>\n",
       "      <th>birth_date</th>\n",
       "      <th>gender</th>\n",
       "      <th>salary</th>\n",
       "      <th>from_date</th>\n",
       "    </tr>\n",
       "  </thead>\n",
       "  <tbody>\n",
       "    <tr>\n",
       "      <th>519272</th>\n",
       "      <td>Senior Staff</td>\n",
       "      <td>Tokuyasu</td>\n",
       "      <td>Pesch</td>\n",
       "      <td>1953-11-14</td>\n",
       "      <td>M</td>\n",
       "      <td>158220</td>\n",
       "      <td>1992-03-26</td>\n",
       "    </tr>\n",
       "  </tbody>\n",
       "</table>\n",
       "</div>"
      ],
      "text/plain": [
       "               title first_name last_name birth_date gender  salary  from_date\n",
       "519272  Senior Staff   Tokuyasu     Pesch 1953-11-14      M  158220 1992-03-26"
      ]
     },
     "execution_count": 32,
     "metadata": {},
     "output_type": "execute_result"
    }
   ],
   "source": [
    "# who is the person with the highest salary?\n",
    "df[df.salary == df.salary.max()].head(1)"
   ]
  },
  {
   "cell_type": "code",
   "execution_count": 33,
   "metadata": {},
   "outputs": [
    {
     "data": {
      "text/html": [
       "<div>\n",
       "<style scoped>\n",
       "    .dataframe tbody tr th:only-of-type {\n",
       "        vertical-align: middle;\n",
       "    }\n",
       "\n",
       "    .dataframe tbody tr th {\n",
       "        vertical-align: top;\n",
       "    }\n",
       "\n",
       "    .dataframe thead th {\n",
       "        text-align: right;\n",
       "    }\n",
       "</style>\n",
       "<table border=\"1\" class=\"dataframe\">\n",
       "  <thead>\n",
       "    <tr style=\"text-align: right;\">\n",
       "      <th></th>\n",
       "      <th>title</th>\n",
       "      <th>first_name</th>\n",
       "      <th>last_name</th>\n",
       "      <th>birth_date</th>\n",
       "      <th>gender</th>\n",
       "      <th>salary</th>\n",
       "      <th>from_date</th>\n",
       "    </tr>\n",
       "  </thead>\n",
       "  <tbody>\n",
       "    <tr>\n",
       "      <th>2377404</th>\n",
       "      <td>Technique Leader</td>\n",
       "      <td>Olivera</td>\n",
       "      <td>Baek</td>\n",
       "      <td>1953-09-23</td>\n",
       "      <td>M</td>\n",
       "      <td>38623</td>\n",
       "      <td>1999-02-21</td>\n",
       "    </tr>\n",
       "  </tbody>\n",
       "</table>\n",
       "</div>"
      ],
      "text/plain": [
       "                    title first_name last_name birth_date gender  salary  \\\n",
       "2377404  Technique Leader    Olivera      Baek 1953-09-23      M   38623   \n",
       "\n",
       "         from_date  \n",
       "2377404 1999-02-21  "
      ]
     },
     "execution_count": 33,
     "metadata": {},
     "output_type": "execute_result"
    }
   ],
   "source": [
    "# who is the person with the lowest salary?\n",
    "df[df.salary == df.salary.min()].head(1)"
   ]
  },
  {
   "cell_type": "code",
   "execution_count": 34,
   "metadata": {},
   "outputs": [
    {
     "data": {
      "text/plain": [
       "gender\n",
       "M    64490.028124\n",
       "Name: salary, dtype: float64"
      ]
     },
     "execution_count": 34,
     "metadata": {},
     "output_type": "execute_result"
    }
   ],
   "source": [
    "# what is the average salary of men?\n",
    "df[df.gender == 'M'].groupby('gender').salary.mean()"
   ]
  },
  {
   "cell_type": "code",
   "execution_count": 35,
   "metadata": {},
   "outputs": [
    {
     "data": {
      "text/plain": [
       "gender\n",
       "F    64400.534977\n",
       "Name: salary, dtype: float64"
      ]
     },
     "execution_count": 35,
     "metadata": {},
     "output_type": "execute_result"
    }
   ],
   "source": [
    "# what is the average salary of women?\n",
    "df[df.gender == 'F'].groupby('gender').salary.mean()"
   ]
  },
  {
   "cell_type": "code",
   "execution_count": 36,
   "metadata": {},
   "outputs": [
    {
     "data": {
      "text/plain": [
       "title            first_name  last_name    birth_date  gender  salary  from_date \n",
       "Senior Engineer  Otmar       Kowalchuk    1960-08-31  M       42807   2002-04-10    2\n",
       "                 Zijian      Shokrollahi  1955-07-19  M       68064   1998-04-06    2\n",
       "                 Shir        Kandlur      1957-01-24  M       60864   2000-10-02    2\n",
       "                 Stepehn     Saoudi       1954-06-18  M       73787   1987-12-04    2\n",
       "                 Val         Bade         1952-04-12  M       48372   2002-01-06    2\n",
       "                                                                                   ..\n",
       "                 Hongzue     Melton       1964-07-31  M       91713   1992-01-20    1\n",
       "                                                              92050   1992-01-20    1\n",
       "                                                              93726   1992-01-20    1\n",
       "                                                              94109   1992-01-20    1\n",
       "                 Zvonko      Wielonsky    1956-12-01  M       69927   1998-11-27    1\n",
       "Length: 681384, dtype: int64"
      ]
     },
     "execution_count": 36,
     "metadata": {},
     "output_type": "execute_result"
    }
   ],
   "source": [
    "# how many males are senior engineers?\n",
    "male_senior_engineers = df[(df.gender == 'm'.upper()) & (df.title == 'Senior Engineer')].value_counts()\n",
    "male_senior_engineers"
   ]
  },
  {
   "cell_type": "code",
   "execution_count": 37,
   "metadata": {},
   "outputs": [
    {
     "data": {
      "text/plain": [
       "title            first_name  last_name    birth_date  gender  salary  from_date \n",
       "Senior Engineer  Masadi      Roohalamini  1953-09-29  F       46028   1992-06-01    2\n",
       "                 Kousuke     Skafidas     1964-08-21  F       44035   1997-11-12    2\n",
       "                 Tzu         Solares      1956-05-16  F       72479   1999-06-06    2\n",
       "                 Sreenivas   Aloisi       1958-09-10  F       56659   1997-02-21    2\n",
       "                 Kazuhisa    Ressouche    1958-06-17  F       55403   1994-02-06    2\n",
       "                                                                                   ..\n",
       "                 Hongzhu     Pollock      1954-10-24  F       62441   2001-04-08    1\n",
       "                                                              59861   2001-04-08    1\n",
       "                                                              59419   2001-04-08    1\n",
       "                                                              57721   2001-04-08    1\n",
       "                 Zvonko      Zuberek      1960-01-07  F       68012   2002-06-13    1\n",
       "Length: 455787, dtype: int64"
      ]
     },
     "execution_count": 37,
     "metadata": {},
     "output_type": "execute_result"
    }
   ],
   "source": [
    "# how many females are senior engineers?\n",
    "female_senior_engineers = df[(df.gender == 'f'.upper()) & (df.title == 'Senior Engineer')].value_counts()\n",
    "female_senior_engineers"
   ]
  },
  {
   "cell_type": "code",
   "execution_count": 38,
   "metadata": {},
   "outputs": [
    {
     "data": {
      "text/plain": [
       "title     first_name  last_name   birth_date  gender  salary  from_date \n",
       "Engineer  Adib        Markovitch  1954-10-07  M       69702   2001-07-07    1\n",
       "          Martine     Markovitch  1952-08-06  M       64434   1988-04-20    1\n",
       "          Muzhong     Markovitch  1958-12-23  M       49347   1999-08-19    1\n",
       "                                                      47973   1999-08-19    1\n",
       "                                                      43944   1999-08-19    1\n",
       "                                                                           ..\n",
       "          Goa         Markovitch  1952-09-30  M       73983   1992-09-06    1\n",
       "          Genevieve   Markovitch  1954-09-03  M       51011   1997-08-11    1\n",
       "                                                      50590   1997-08-11    1\n",
       "                                                      48080   1997-08-11    1\n",
       "          Zongyan     Markovitch  1954-09-28  M       58588   1998-03-07    1\n",
       "Length: 437, dtype: int64"
      ]
     },
     "execution_count": 38,
     "metadata": {},
     "output_type": "execute_result"
    }
   ],
   "source": [
    "# find how many people with the name Markovitch there are\n",
    "df[(df.last_name == 'Markovitch') & (df.title == 'Engineer') & (df.gender == 'm'.upper())].value_counts()"
   ]
  },
  {
   "cell_type": "code",
   "execution_count": 39,
   "metadata": {},
   "outputs": [
    {
     "data": {
      "text/plain": [
       "158220"
      ]
     },
     "execution_count": 39,
     "metadata": {},
     "output_type": "execute_result"
    }
   ],
   "source": [
    "df.salary.max()"
   ]
  },
  {
   "cell_type": "code",
   "execution_count": 40,
   "metadata": {},
   "outputs": [
    {
     "data": {
      "text/plain": [
       "title               first_name  last_name    birth_date  gender  salary  from_date \n",
       "Senior Staff        Toshimo     Reghbati     1953-01-26  M       132847  1995-12-11    2\n",
       "Staff               Toshimo     Reghbati     1953-01-26  M       132847  1986-12-11    2\n",
       "Assistant Engineer  Jessie      Thiran       1961-11-23  M       120910  1987-10-09    1\n",
       "Staff               Fumino      Ciolek       1962-08-12  M       120173  1989-07-18    1\n",
       "                    Frazer      Ranze        1957-03-07  M       120951  1985-03-04    1\n",
       "                                                                                      ..\n",
       "Senior Staff        Mona        Luck         1965-01-29  M       125743  1989-05-11    1\n",
       "                                Mitzlaff     1957-02-06  F       120367  1988-12-31    1\n",
       "                                                                 122110  1988-12-31    1\n",
       "                                                                 122425  1988-12-31    1\n",
       "Technique Leader    Valdiodio   Capobianchi  1963-02-18  M       125261  1990-03-21    1\n",
       "Length: 14781, dtype: int64"
      ]
     },
     "execution_count": 40,
     "metadata": {},
     "output_type": "execute_result"
    }
   ],
   "source": [
    "df[df.salary > 120000].value_counts()"
   ]
  },
  {
   "cell_type": "code",
   "execution_count": 41,
   "metadata": {},
   "outputs": [
    {
     "data": {
      "text/html": [
       "<div>\n",
       "<style scoped>\n",
       "    .dataframe tbody tr th:only-of-type {\n",
       "        vertical-align: middle;\n",
       "    }\n",
       "\n",
       "    .dataframe tbody tr th {\n",
       "        vertical-align: top;\n",
       "    }\n",
       "\n",
       "    .dataframe thead th {\n",
       "        text-align: right;\n",
       "    }\n",
       "</style>\n",
       "<table border=\"1\" class=\"dataframe\">\n",
       "  <thead>\n",
       "    <tr style=\"text-align: right;\">\n",
       "      <th></th>\n",
       "      <th>title</th>\n",
       "      <th>first_name</th>\n",
       "      <th>last_name</th>\n",
       "      <th>birth_date</th>\n",
       "      <th>gender</th>\n",
       "      <th>salary</th>\n",
       "      <th>from_date</th>\n",
       "    </tr>\n",
       "  </thead>\n",
       "  <tbody>\n",
       "    <tr>\n",
       "      <th>3630</th>\n",
       "      <td>Senior Staff</td>\n",
       "      <td>Yannis</td>\n",
       "      <td>Mandell</td>\n",
       "      <td>1952-09-22</td>\n",
       "      <td>F</td>\n",
       "      <td>122275</td>\n",
       "      <td>1997-08-11</td>\n",
       "    </tr>\n",
       "    <tr>\n",
       "      <th>3631</th>\n",
       "      <td>Senior Staff</td>\n",
       "      <td>Yannis</td>\n",
       "      <td>Mandell</td>\n",
       "      <td>1952-09-22</td>\n",
       "      <td>F</td>\n",
       "      <td>125947</td>\n",
       "      <td>1997-08-11</td>\n",
       "    </tr>\n",
       "    <tr>\n",
       "      <th>3641</th>\n",
       "      <td>Staff</td>\n",
       "      <td>Yannis</td>\n",
       "      <td>Mandell</td>\n",
       "      <td>1952-09-22</td>\n",
       "      <td>F</td>\n",
       "      <td>122275</td>\n",
       "      <td>1989-08-11</td>\n",
       "    </tr>\n",
       "    <tr>\n",
       "      <th>3642</th>\n",
       "      <td>Staff</td>\n",
       "      <td>Yannis</td>\n",
       "      <td>Mandell</td>\n",
       "      <td>1952-09-22</td>\n",
       "      <td>F</td>\n",
       "      <td>125947</td>\n",
       "      <td>1989-08-11</td>\n",
       "    </tr>\n",
       "    <tr>\n",
       "      <th>8155</th>\n",
       "      <td>Senior Staff</td>\n",
       "      <td>Mary</td>\n",
       "      <td>Wossner</td>\n",
       "      <td>1959-08-31</td>\n",
       "      <td>F</td>\n",
       "      <td>122653</td>\n",
       "      <td>1993-05-18</td>\n",
       "    </tr>\n",
       "    <tr>\n",
       "      <th>...</th>\n",
       "      <td>...</td>\n",
       "      <td>...</td>\n",
       "      <td>...</td>\n",
       "      <td>...</td>\n",
       "      <td>...</td>\n",
       "      <td>...</td>\n",
       "      <td>...</td>\n",
       "    </tr>\n",
       "    <tr>\n",
       "      <th>4627810</th>\n",
       "      <td>Senior Staff</td>\n",
       "      <td>Weiwu</td>\n",
       "      <td>Pardalos</td>\n",
       "      <td>1962-09-23</td>\n",
       "      <td>F</td>\n",
       "      <td>125006</td>\n",
       "      <td>1993-04-25</td>\n",
       "    </tr>\n",
       "    <tr>\n",
       "      <th>4627827</th>\n",
       "      <td>Staff</td>\n",
       "      <td>Weiwu</td>\n",
       "      <td>Pardalos</td>\n",
       "      <td>1962-09-23</td>\n",
       "      <td>F</td>\n",
       "      <td>122455</td>\n",
       "      <td>1985-04-25</td>\n",
       "    </tr>\n",
       "    <tr>\n",
       "      <th>4627828</th>\n",
       "      <td>Staff</td>\n",
       "      <td>Weiwu</td>\n",
       "      <td>Pardalos</td>\n",
       "      <td>1962-09-23</td>\n",
       "      <td>F</td>\n",
       "      <td>125006</td>\n",
       "      <td>1985-04-25</td>\n",
       "    </tr>\n",
       "    <tr>\n",
       "      <th>4638331</th>\n",
       "      <td>Senior Staff</td>\n",
       "      <td>Nathan</td>\n",
       "      <td>Ranta</td>\n",
       "      <td>1952-07-22</td>\n",
       "      <td>F</td>\n",
       "      <td>120013</td>\n",
       "      <td>1992-08-11</td>\n",
       "    </tr>\n",
       "    <tr>\n",
       "      <th>4638348</th>\n",
       "      <td>Staff</td>\n",
       "      <td>Nathan</td>\n",
       "      <td>Ranta</td>\n",
       "      <td>1952-07-22</td>\n",
       "      <td>F</td>\n",
       "      <td>120013</td>\n",
       "      <td>1985-08-11</td>\n",
       "    </tr>\n",
       "  </tbody>\n",
       "</table>\n",
       "<p>5674 rows × 7 columns</p>\n",
       "</div>"
      ],
      "text/plain": [
       "                title first_name last_name birth_date gender  salary  \\\n",
       "3630     Senior Staff     Yannis   Mandell 1952-09-22      F  122275   \n",
       "3631     Senior Staff     Yannis   Mandell 1952-09-22      F  125947   \n",
       "3641            Staff     Yannis   Mandell 1952-09-22      F  122275   \n",
       "3642            Staff     Yannis   Mandell 1952-09-22      F  125947   \n",
       "8155     Senior Staff       Mary   Wossner 1959-08-31      F  122653   \n",
       "...               ...        ...       ...        ...    ...     ...   \n",
       "4627810  Senior Staff      Weiwu  Pardalos 1962-09-23      F  125006   \n",
       "4627827         Staff      Weiwu  Pardalos 1962-09-23      F  122455   \n",
       "4627828         Staff      Weiwu  Pardalos 1962-09-23      F  125006   \n",
       "4638331  Senior Staff     Nathan     Ranta 1952-07-22      F  120013   \n",
       "4638348         Staff     Nathan     Ranta 1952-07-22      F  120013   \n",
       "\n",
       "         from_date  \n",
       "3630    1997-08-11  \n",
       "3631    1997-08-11  \n",
       "3641    1989-08-11  \n",
       "3642    1989-08-11  \n",
       "8155    1993-05-18  \n",
       "...            ...  \n",
       "4627810 1993-04-25  \n",
       "4627827 1985-04-25  \n",
       "4627828 1985-04-25  \n",
       "4638331 1992-08-11  \n",
       "4638348 1985-08-11  \n",
       "\n",
       "[5674 rows x 7 columns]"
      ]
     },
     "execution_count": 41,
     "metadata": {},
     "output_type": "execute_result"
    }
   ],
   "source": [
    "df[(df.gender == 'f'.upper()) & (df.salary > 120000)]"
   ]
  },
  {
   "cell_type": "code",
   "execution_count": null,
   "metadata": {},
   "outputs": [],
   "source": []
  }
 ],
 "metadata": {
  "interpreter": {
   "hash": "40d3a090f54c6569ab1632332b64b2c03c39dcf918b08424e98f38b5ae0af88f"
  },
  "kernelspec": {
   "display_name": "Python 3.9.7 64-bit ('base': conda)",
   "language": "python",
   "name": "python3"
  },
  "language_info": {
   "codemirror_mode": {
    "name": "ipython",
    "version": 3
   },
   "file_extension": ".py",
   "mimetype": "text/x-python",
   "name": "python",
   "nbconvert_exporter": "python",
   "pygments_lexer": "ipython3",
   "version": "3.9.7"
  },
  "orig_nbformat": 4
 },
 "nbformat": 4,
 "nbformat_minor": 2
}
